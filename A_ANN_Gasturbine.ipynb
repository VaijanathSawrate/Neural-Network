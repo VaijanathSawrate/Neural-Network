{
 "cells": [
  {
   "cell_type": "markdown",
   "metadata": {},
   "source": [
    "### Import libraries"
   ]
  },
  {
   "cell_type": "code",
   "execution_count": 1,
   "metadata": {},
   "outputs": [],
   "source": [
    "import tensorflow as tf\n",
    "import numpy as np\n",
    "import pandas as pd\n",
    "import matplotlib.pyplot as plt\n",
    "from sklearn.model_selection import train_test_split"
   ]
  },
  {
   "cell_type": "markdown",
   "metadata": {},
   "source": [
    "### Import dataset"
   ]
  },
  {
   "cell_type": "code",
   "execution_count": 3,
   "metadata": {},
   "outputs": [
    {
     "data": {
      "text/html": [
       "<div>\n",
       "<style scoped>\n",
       "    .dataframe tbody tr th:only-of-type {\n",
       "        vertical-align: middle;\n",
       "    }\n",
       "\n",
       "    .dataframe tbody tr th {\n",
       "        vertical-align: top;\n",
       "    }\n",
       "\n",
       "    .dataframe thead th {\n",
       "        text-align: right;\n",
       "    }\n",
       "</style>\n",
       "<table border=\"1\" class=\"dataframe\">\n",
       "  <thead>\n",
       "    <tr style=\"text-align: right;\">\n",
       "      <th></th>\n",
       "      <th>AT</th>\n",
       "      <th>AP</th>\n",
       "      <th>AH</th>\n",
       "      <th>AFDP</th>\n",
       "      <th>GTEP</th>\n",
       "      <th>TIT</th>\n",
       "      <th>TAT</th>\n",
       "      <th>TEY</th>\n",
       "      <th>CDP</th>\n",
       "      <th>CO</th>\n",
       "      <th>NOX</th>\n",
       "    </tr>\n",
       "  </thead>\n",
       "  <tbody>\n",
       "    <tr>\n",
       "      <th>0</th>\n",
       "      <td>6.8594</td>\n",
       "      <td>1007.9</td>\n",
       "      <td>96.799</td>\n",
       "      <td>3.5000</td>\n",
       "      <td>19.663</td>\n",
       "      <td>1059.2</td>\n",
       "      <td>550.00</td>\n",
       "      <td>114.70</td>\n",
       "      <td>10.605</td>\n",
       "      <td>3.1547</td>\n",
       "      <td>82.722</td>\n",
       "    </tr>\n",
       "    <tr>\n",
       "      <th>1</th>\n",
       "      <td>6.7850</td>\n",
       "      <td>1008.4</td>\n",
       "      <td>97.118</td>\n",
       "      <td>3.4998</td>\n",
       "      <td>19.728</td>\n",
       "      <td>1059.3</td>\n",
       "      <td>550.00</td>\n",
       "      <td>114.72</td>\n",
       "      <td>10.598</td>\n",
       "      <td>3.2363</td>\n",
       "      <td>82.776</td>\n",
       "    </tr>\n",
       "    <tr>\n",
       "      <th>2</th>\n",
       "      <td>6.8977</td>\n",
       "      <td>1008.8</td>\n",
       "      <td>95.939</td>\n",
       "      <td>3.4824</td>\n",
       "      <td>19.779</td>\n",
       "      <td>1059.4</td>\n",
       "      <td>549.87</td>\n",
       "      <td>114.71</td>\n",
       "      <td>10.601</td>\n",
       "      <td>3.2012</td>\n",
       "      <td>82.468</td>\n",
       "    </tr>\n",
       "    <tr>\n",
       "      <th>3</th>\n",
       "      <td>7.0569</td>\n",
       "      <td>1009.2</td>\n",
       "      <td>95.249</td>\n",
       "      <td>3.4805</td>\n",
       "      <td>19.792</td>\n",
       "      <td>1059.6</td>\n",
       "      <td>549.99</td>\n",
       "      <td>114.72</td>\n",
       "      <td>10.606</td>\n",
       "      <td>3.1923</td>\n",
       "      <td>82.670</td>\n",
       "    </tr>\n",
       "    <tr>\n",
       "      <th>4</th>\n",
       "      <td>7.3978</td>\n",
       "      <td>1009.7</td>\n",
       "      <td>95.150</td>\n",
       "      <td>3.4976</td>\n",
       "      <td>19.765</td>\n",
       "      <td>1059.7</td>\n",
       "      <td>549.98</td>\n",
       "      <td>114.72</td>\n",
       "      <td>10.612</td>\n",
       "      <td>3.2484</td>\n",
       "      <td>82.311</td>\n",
       "    </tr>\n",
       "  </tbody>\n",
       "</table>\n",
       "</div>"
      ],
      "text/plain": [
       "       AT      AP      AH    AFDP    GTEP     TIT     TAT     TEY     CDP  \\\n",
       "0  6.8594  1007.9  96.799  3.5000  19.663  1059.2  550.00  114.70  10.605   \n",
       "1  6.7850  1008.4  97.118  3.4998  19.728  1059.3  550.00  114.72  10.598   \n",
       "2  6.8977  1008.8  95.939  3.4824  19.779  1059.4  549.87  114.71  10.601   \n",
       "3  7.0569  1009.2  95.249  3.4805  19.792  1059.6  549.99  114.72  10.606   \n",
       "4  7.3978  1009.7  95.150  3.4976  19.765  1059.7  549.98  114.72  10.612   \n",
       "\n",
       "       CO     NOX  \n",
       "0  3.1547  82.722  \n",
       "1  3.2363  82.776  \n",
       "2  3.2012  82.468  \n",
       "3  3.1923  82.670  \n",
       "4  3.2484  82.311  "
      ]
     },
     "execution_count": 3,
     "metadata": {},
     "output_type": "execute_result"
    }
   ],
   "source": [
    "data = pd.read_csv(\"D:\\\\DATA_science\\\\Data_sets\\\\Neural Network\\\\gas_turbines.csv\")\n",
    "data.head()"
   ]
  },
  {
   "cell_type": "markdown",
   "metadata": {},
   "source": [
    "### Split input and output variable"
   ]
  },
  {
   "cell_type": "code",
   "execution_count": 4,
   "metadata": {},
   "outputs": [],
   "source": [
    "features = data[['AT', 'AP', 'AH', 'AFDP', 'GTEP', 'TIT', 'TAT', 'CDP', 'CO', 'NOX']]\n",
    "target = data[['TEY']]"
   ]
  },
  {
   "cell_type": "markdown",
   "metadata": {},
   "source": [
    "### Split dataset into train and test"
   ]
  },
  {
   "cell_type": "code",
   "execution_count": 5,
   "metadata": {},
   "outputs": [],
   "source": [
    "train_features,test_features,train_target,test_target = train_test_split(features,target)"
   ]
  },
  {
   "cell_type": "markdown",
   "metadata": {},
   "source": [
    "### Apply the model on train dataset"
   ]
  },
  {
   "cell_type": "code",
   "execution_count": 6,
   "metadata": {},
   "outputs": [],
   "source": [
    "no_features_columns = len(train_features.keys())\n",
    "no_target_columns = 1\n",
    "model = tf.keras.models.Sequential([\n",
    "    tf.keras.layers.Dense(32,activation='relu',input_shape=[no_features_columns]),\n",
    "    tf.keras.layers.Dense(16,activation='relu'),\n",
    "    tf.keras.layers.Dense(no_target_columns)\n",
    "])"
   ]
  },
  {
   "cell_type": "code",
   "execution_count": 38,
   "metadata": {},
   "outputs": [],
   "source": [
    "model.compile(optimizer=tf.keras.optimizers.RMSprop(),\n",
    "             loss='mean_squared_error',\n",
    "             metrics=['mean_squared_error'])"
   ]
  },
  {
   "cell_type": "code",
   "execution_count": 73,
   "metadata": {},
   "outputs": [
    {
     "name": "stdout",
     "output_type": "stream",
     "text": [
      "Epoch 1/45\n",
      "508/508 [==============================] - 0s 897us/step - loss: 1.8237 - mean_squared_error: 1.8237 - val_loss: 0.9145 - val_mean_squared_error: 0.9145\n",
      "Epoch 2/45\n",
      "508/508 [==============================] - 0s 804us/step - loss: 1.8166 - mean_squared_error: 1.8166 - val_loss: 0.6429 - val_mean_squared_error: 0.6429\n",
      "Epoch 3/45\n",
      "508/508 [==============================] - 0s 957us/step - loss: 1.7680 - mean_squared_error: 1.7680 - val_loss: 0.7081 - val_mean_squared_error: 0.7081\n",
      "Epoch 4/45\n",
      "508/508 [==============================] - 0s 944us/step - loss: 1.7969 - mean_squared_error: 1.7969 - val_loss: 1.8643 - val_mean_squared_error: 1.8643\n",
      "Epoch 5/45\n",
      "508/508 [==============================] - 0s 829us/step - loss: 1.7937 - mean_squared_error: 1.7937 - val_loss: 0.7189 - val_mean_squared_error: 0.7189\n",
      "Epoch 6/45\n",
      "508/508 [==============================] - 0s 804us/step - loss: 1.7836 - mean_squared_error: 1.7836 - val_loss: 1.0597 - val_mean_squared_error: 1.0597\n",
      "Epoch 7/45\n",
      "508/508 [==============================] - 0s 807us/step - loss: 1.7881 - mean_squared_error: 1.7881 - val_loss: 6.1099 - val_mean_squared_error: 6.1099\n",
      "Epoch 8/45\n",
      "508/508 [==============================] - 0s 805us/step - loss: 1.8255 - mean_squared_error: 1.8255 - val_loss: 4.5135 - val_mean_squared_error: 4.5135\n",
      "Epoch 9/45\n",
      "508/508 [==============================] - 0s 783us/step - loss: 1.7940 - mean_squared_error: 1.7940 - val_loss: 1.2942 - val_mean_squared_error: 1.2942\n",
      "Epoch 10/45\n",
      "508/508 [==============================] - 0s 801us/step - loss: 1.8064 - mean_squared_error: 1.8064 - val_loss: 1.3560 - val_mean_squared_error: 1.3560\n",
      "Epoch 11/45\n",
      "508/508 [==============================] - 0s 800us/step - loss: 1.7949 - mean_squared_error: 1.7949 - val_loss: 0.7994 - val_mean_squared_error: 0.7994\n",
      "Epoch 12/45\n",
      "508/508 [==============================] - 0s 788us/step - loss: 1.8010 - mean_squared_error: 1.8010 - val_loss: 0.8910 - val_mean_squared_error: 0.8910\n",
      "Epoch 13/45\n",
      "508/508 [==============================] - 0s 783us/step - loss: 1.7670 - mean_squared_error: 1.7670 - val_loss: 1.2371 - val_mean_squared_error: 1.2371\n",
      "Epoch 14/45\n",
      "508/508 [==============================] - 0s 792us/step - loss: 1.7754 - mean_squared_error: 1.7754 - val_loss: 1.3136 - val_mean_squared_error: 1.3136\n",
      "Epoch 15/45\n",
      "508/508 [==============================] - 0s 868us/step - loss: 1.7747 - mean_squared_error: 1.7747 - val_loss: 1.1064 - val_mean_squared_error: 1.1064\n",
      "Epoch 16/45\n",
      "508/508 [==============================] - 0s 955us/step - loss: 1.8149 - mean_squared_error: 1.8149 - val_loss: 0.6438 - val_mean_squared_error: 0.6438\n",
      "Epoch 17/45\n",
      "508/508 [==============================] - 0s 878us/step - loss: 1.7863 - mean_squared_error: 1.7863 - val_loss: 1.2440 - val_mean_squared_error: 1.2440\n",
      "Epoch 18/45\n",
      "508/508 [==============================] - 0s 824us/step - loss: 1.7504 - mean_squared_error: 1.7504 - val_loss: 0.8233 - val_mean_squared_error: 0.8233\n",
      "Epoch 19/45\n",
      "508/508 [==============================] - 0s 854us/step - loss: 1.7595 - mean_squared_error: 1.7595 - val_loss: 2.9562 - val_mean_squared_error: 2.9562\n",
      "Epoch 20/45\n",
      "508/508 [==============================] - 0s 883us/step - loss: 1.8007 - mean_squared_error: 1.8007 - val_loss: 1.3468 - val_mean_squared_error: 1.3468\n",
      "Epoch 21/45\n",
      "508/508 [==============================] - 0s 804us/step - loss: 1.7838 - mean_squared_error: 1.7838 - val_loss: 0.6501 - val_mean_squared_error: 0.6501\n",
      "Epoch 22/45\n",
      "508/508 [==============================] - 0s 805us/step - loss: 1.7509 - mean_squared_error: 1.7509 - val_loss: 1.1007 - val_mean_squared_error: 1.1007\n",
      "Epoch 23/45\n",
      "508/508 [==============================] - 0s 803us/step - loss: 1.7545 - mean_squared_error: 1.7545 - val_loss: 0.6868 - val_mean_squared_error: 0.6868\n",
      "Epoch 24/45\n",
      "508/508 [==============================] - 0s 817us/step - loss: 1.7476 - mean_squared_error: 1.7476 - val_loss: 1.6911 - val_mean_squared_error: 1.6911\n",
      "Epoch 25/45\n",
      "508/508 [==============================] - 0s 818us/step - loss: 1.7702 - mean_squared_error: 1.7702 - val_loss: 6.5423 - val_mean_squared_error: 6.5423\n",
      "Epoch 26/45\n",
      "508/508 [==============================] - 0s 796us/step - loss: 1.7408 - mean_squared_error: 1.7408 - val_loss: 1.3866 - val_mean_squared_error: 1.3866\n",
      "Epoch 27/45\n",
      "508/508 [==============================] - 0s 809us/step - loss: 1.7915 - mean_squared_error: 1.7915 - val_loss: 3.8787 - val_mean_squared_error: 3.8787\n",
      "Epoch 28/45\n",
      "508/508 [==============================] - 0s 806us/step - loss: 1.7598 - mean_squared_error: 1.7598 - val_loss: 7.6172 - val_mean_squared_error: 7.6172\n",
      "Epoch 29/45\n",
      "508/508 [==============================] - 0s 850us/step - loss: 1.7509 - mean_squared_error: 1.7509 - val_loss: 0.7306 - val_mean_squared_error: 0.7306\n",
      "Epoch 30/45\n",
      "508/508 [==============================] - 0s 809us/step - loss: 1.7752 - mean_squared_error: 1.7752 - val_loss: 0.7984 - val_mean_squared_error: 0.7984\n",
      "Epoch 31/45\n",
      "508/508 [==============================] - 0s 817us/step - loss: 1.7618 - mean_squared_error: 1.7618 - val_loss: 3.5700 - val_mean_squared_error: 3.5700\n",
      "Epoch 32/45\n",
      "508/508 [==============================] - 0s 795us/step - loss: 1.7525 - mean_squared_error: 1.7525 - val_loss: 2.7167 - val_mean_squared_error: 2.7167\n",
      "Epoch 33/45\n",
      "508/508 [==============================] - 0s 805us/step - loss: 1.8038 - mean_squared_error: 1.8038 - val_loss: 0.5815 - val_mean_squared_error: 0.5815\n",
      "Epoch 34/45\n",
      "508/508 [==============================] - 0s 798us/step - loss: 1.7600 - mean_squared_error: 1.7600 - val_loss: 0.6548 - val_mean_squared_error: 0.6548\n",
      "Epoch 35/45\n",
      "508/508 [==============================] - 0s 822us/step - loss: 1.7170 - mean_squared_error: 1.7170 - val_loss: 0.6301 - val_mean_squared_error: 0.6301\n",
      "Epoch 36/45\n",
      "508/508 [==============================] - 0s 809us/step - loss: 1.7888 - mean_squared_error: 1.7888 - val_loss: 0.7302 - val_mean_squared_error: 0.7302\n",
      "Epoch 37/45\n",
      "508/508 [==============================] - 0s 786us/step - loss: 1.7381 - mean_squared_error: 1.7381 - val_loss: 6.5983 - val_mean_squared_error: 6.5983\n",
      "Epoch 38/45\n",
      "508/508 [==============================] - 0s 780us/step - loss: 1.7805 - mean_squared_error: 1.7805 - val_loss: 2.9836 - val_mean_squared_error: 2.9836\n",
      "Epoch 39/45\n",
      "508/508 [==============================] - 0s 769us/step - loss: 1.7433 - mean_squared_error: 1.7433 - val_loss: 0.9085 - val_mean_squared_error: 0.9085\n",
      "Epoch 40/45\n",
      "508/508 [==============================] - 0s 782us/step - loss: 1.7241 - mean_squared_error: 1.7241 - val_loss: 2.1229 - val_mean_squared_error: 2.1229\n",
      "Epoch 41/45\n",
      "508/508 [==============================] - 0s 783us/step - loss: 1.7729 - mean_squared_error: 1.7729 - val_loss: 1.5307 - val_mean_squared_error: 1.5307\n",
      "Epoch 42/45\n",
      "508/508 [==============================] - 0s 775us/step - loss: 1.7442 - mean_squared_error: 1.7442 - val_loss: 3.1046 - val_mean_squared_error: 3.1046\n",
      "Epoch 43/45\n",
      "508/508 [==============================] - 0s 860us/step - loss: 1.7191 - mean_squared_error: 1.7191 - val_loss: 2.3657 - val_mean_squared_error: 2.3657\n",
      "Epoch 44/45\n",
      "508/508 [==============================] - 0s 975us/step - loss: 1.7781 - mean_squared_error: 1.7781 - val_loss: 0.8386 - val_mean_squared_error: 0.8386\n",
      "Epoch 45/45\n",
      "508/508 [==============================] - 0s 979us/step - loss: 1.7661 - mean_squared_error: 1.7661 - val_loss: 0.8170 - val_mean_squared_error: 0.8170\n"
     ]
    }
   ],
   "source": [
    "history = model.fit(train_features, train_target, validation_split=0.10, epochs=45, batch_size=20)"
   ]
  },
  {
   "cell_type": "code",
   "execution_count": 74,
   "metadata": {},
   "outputs": [
    {
     "data": {
      "text/plain": [
       "dict_keys(['loss', 'mean_squared_error', 'val_loss', 'val_mean_squared_error'])"
      ]
     },
     "execution_count": 74,
     "metadata": {},
     "output_type": "execute_result"
    }
   ],
   "source": [
    "# list all data in history\n",
    "model.history.history.keys()"
   ]
  },
  {
   "cell_type": "markdown",
   "metadata": {},
   "source": [
    "### Summarize history"
   ]
  },
  {
   "cell_type": "code",
   "execution_count": 75,
   "metadata": {},
   "outputs": [
    {
     "data": {
      "image/png": "[encoded data removed]",
      "text/plain": [
       "<Figure size 432x288 with 1 Axes>"
      ]
     },
     "metadata": {
      "needs_background": "light"
     },
     "output_type": "display_data"
    },
    {
     "data": {
      "image/png": "[encoded data removed]",
      "text/plain": [
       "<Figure size 432x288 with 1 Axes>"
      ]
     },
     "metadata": {
      "needs_background": "light"
     },
     "output_type": "display_data"
    }
   ],
   "source": [
    "# summarize history for mean_squared_error\n",
    "import matplotlib.pyplot as plt\n",
    "plt.plot(history.history['mean_squared_error'])\n",
    "plt.plot(history.history['val_mean_squared_error'])\n",
    "plt.title('model mean squared error')\n",
    "plt.ylabel('mean_squared_error')\n",
    "plt.xlabel('epoch')\n",
    "plt.legend(['train', 'test'], loc='upper left')\n",
    "plt.show()\n",
    "# summarize history for loss\n",
    "plt.plot(history.history['loss'])\n",
    "plt.plot(history.history['val_loss'])\n",
    "plt.title('model loss')\n",
    "plt.ylabel('loss')\n",
    "plt.xlabel('epoch')\n",
    "plt.legend(['train', 'test'], loc='upper left')\n",
    "plt.show()"
   ]
  },
  {
   "cell_type": "markdown",
   "metadata": {},
   "source": [
    "### Predictions for test dataset"
   ]
  },
  {
   "cell_type": "code",
   "execution_count": 76,
   "metadata": {},
   "outputs": [
    {
     "data": {
      "text/html": [
       "<div>\n",
       "<style scoped>\n",
       "    .dataframe tbody tr th:only-of-type {\n",
       "        vertical-align: middle;\n",
       "    }\n",
       "\n",
       "    .dataframe tbody tr th {\n",
       "        vertical-align: top;\n",
       "    }\n",
       "\n",
       "    .dataframe thead th {\n",
       "        text-align: right;\n",
       "    }\n",
       "</style>\n",
       "<table border=\"1\" class=\"dataframe\">\n",
       "  <thead>\n",
       "    <tr style=\"text-align: right;\">\n",
       "      <th></th>\n",
       "      <th>Predicted TEY</th>\n",
       "      <th>Actual</th>\n",
       "    </tr>\n",
       "  </thead>\n",
       "  <tbody>\n",
       "    <tr>\n",
       "      <th>0</th>\n",
       "      <td>131.917648</td>\n",
       "      <td>130.21</td>\n",
       "    </tr>\n",
       "    <tr>\n",
       "      <th>1</th>\n",
       "      <td>133.404343</td>\n",
       "      <td>133.98</td>\n",
       "    </tr>\n",
       "    <tr>\n",
       "      <th>2</th>\n",
       "      <td>130.656662</td>\n",
       "      <td>129.96</td>\n",
       "    </tr>\n",
       "    <tr>\n",
       "      <th>3</th>\n",
       "      <td>133.897812</td>\n",
       "      <td>134.50</td>\n",
       "    </tr>\n",
       "    <tr>\n",
       "      <th>4</th>\n",
       "      <td>153.784943</td>\n",
       "      <td>155.97</td>\n",
       "    </tr>\n",
       "    <tr>\n",
       "      <th>5</th>\n",
       "      <td>109.807861</td>\n",
       "      <td>109.65</td>\n",
       "    </tr>\n",
       "    <tr>\n",
       "      <th>6</th>\n",
       "      <td>110.319382</td>\n",
       "      <td>110.76</td>\n",
       "    </tr>\n",
       "    <tr>\n",
       "      <th>7</th>\n",
       "      <td>142.458908</td>\n",
       "      <td>143.59</td>\n",
       "    </tr>\n",
       "    <tr>\n",
       "      <th>8</th>\n",
       "      <td>110.808151</td>\n",
       "      <td>112.09</td>\n",
       "    </tr>\n",
       "    <tr>\n",
       "      <th>9</th>\n",
       "      <td>135.242233</td>\n",
       "      <td>133.68</td>\n",
       "    </tr>\n",
       "  </tbody>\n",
       "</table>\n",
       "</div>"
      ],
      "text/plain": [
       "   Predicted TEY  Actual \n",
       "0     131.917648   130.21\n",
       "1     133.404343   133.98\n",
       "2     130.656662   129.96\n",
       "3     133.897812   134.50\n",
       "4     153.784943   155.97\n",
       "5     109.807861   109.65\n",
       "6     110.319382   110.76\n",
       "7     142.458908   143.59\n",
       "8     110.808151   112.09\n",
       "9     135.242233   133.68"
      ]
     },
     "execution_count": 76,
     "metadata": {},
     "output_type": "execute_result"
    }
   ],
   "source": [
    "test_predictions = model.predict(test_features).flatten()\n",
    "results_df = pd.DataFrame({'Predicted TEY': test_predictions,'Actual ':test_target.values.flatten()})\n",
    "results_df.head(10)"
   ]
  },
  {
   "cell_type": "markdown",
   "metadata": {},
   "source": [
    "### Predictions for train dataset"
   ]
  },
  {
   "cell_type": "code",
   "execution_count": 77,
   "metadata": {},
   "outputs": [
    {
     "data": {
      "text/html": [
       "<div>\n",
       "<style scoped>\n",
       "    .dataframe tbody tr th:only-of-type {\n",
       "        vertical-align: middle;\n",
       "    }\n",
       "\n",
       "    .dataframe tbody tr th {\n",
       "        vertical-align: top;\n",
       "    }\n",
       "\n",
       "    .dataframe thead th {\n",
       "        text-align: right;\n",
       "    }\n",
       "</style>\n",
       "<table border=\"1\" class=\"dataframe\">\n",
       "  <thead>\n",
       "    <tr style=\"text-align: right;\">\n",
       "      <th></th>\n",
       "      <th>Predicted TEY</th>\n",
       "      <th>Actual TEY</th>\n",
       "    </tr>\n",
       "  </thead>\n",
       "  <tbody>\n",
       "    <tr>\n",
       "      <th>0</th>\n",
       "      <td>110.245766</td>\n",
       "      <td>111.75</td>\n",
       "    </tr>\n",
       "    <tr>\n",
       "      <th>1</th>\n",
       "      <td>116.599838</td>\n",
       "      <td>117.01</td>\n",
       "    </tr>\n",
       "    <tr>\n",
       "      <th>2</th>\n",
       "      <td>133.968460</td>\n",
       "      <td>134.78</td>\n",
       "    </tr>\n",
       "    <tr>\n",
       "      <th>3</th>\n",
       "      <td>132.754898</td>\n",
       "      <td>132.83</td>\n",
       "    </tr>\n",
       "    <tr>\n",
       "      <th>4</th>\n",
       "      <td>133.415863</td>\n",
       "      <td>134.61</td>\n",
       "    </tr>\n",
       "    <tr>\n",
       "      <th>5</th>\n",
       "      <td>133.305252</td>\n",
       "      <td>133.79</td>\n",
       "    </tr>\n",
       "    <tr>\n",
       "      <th>6</th>\n",
       "      <td>150.028778</td>\n",
       "      <td>151.23</td>\n",
       "    </tr>\n",
       "    <tr>\n",
       "      <th>7</th>\n",
       "      <td>103.855713</td>\n",
       "      <td>103.81</td>\n",
       "    </tr>\n",
       "    <tr>\n",
       "      <th>8</th>\n",
       "      <td>116.970871</td>\n",
       "      <td>116.71</td>\n",
       "    </tr>\n",
       "    <tr>\n",
       "      <th>9</th>\n",
       "      <td>119.907906</td>\n",
       "      <td>120.26</td>\n",
       "    </tr>\n",
       "  </tbody>\n",
       "</table>\n",
       "</div>"
      ],
      "text/plain": [
       "   Predicted TEY  Actual TEY\n",
       "0     110.245766      111.75\n",
       "1     116.599838      117.01\n",
       "2     133.968460      134.78\n",
       "3     132.754898      132.83\n",
       "4     133.415863      134.61\n",
       "5     133.305252      133.79\n",
       "6     150.028778      151.23\n",
       "7     103.855713      103.81\n",
       "8     116.970871      116.71\n",
       "9     119.907906      120.26"
      ]
     },
     "execution_count": 77,
     "metadata": {},
     "output_type": "execute_result"
    }
   ],
   "source": [
    "train_predictions = model.predict(train_features).flatten()\n",
    "results_df = pd.DataFrame({'Predicted TEY': train_predictions,'Actual TEY':train_target.values.flatten()})\n",
    "results_df.head(10)"
   ]
  },
  {
   "cell_type": "markdown",
   "metadata": {},
   "source": [
    "### Error for train dataset"
   ]
  },
  {
   "cell_type": "code",
   "execution_count": 78,
   "metadata": {},
   "outputs": [
    {
     "name": "stdout",
     "output_type": "stream",
     "text": [
      "353/353 [==============================] - 0s 545us/step - loss: 0.8782 - mean_squared_error: 0.8782\n",
      "('mean_squared_error', 0.8781819939613342)\n"
     ]
    }
   ],
   "source": [
    "# evaulate the model\n",
    "scores = model.evaluate(train_features, train_target)\n",
    "#print(scores)\n",
    "print( (model.metrics_names[1], scores[1]))"
   ]
  },
  {
   "cell_type": "markdown",
   "metadata": {},
   "source": [
    "### Error for test Dataset"
   ]
  },
  {
   "cell_type": "code",
   "execution_count": 79,
   "metadata": {},
   "outputs": [
    {
     "name": "stdout",
     "output_type": "stream",
     "text": [
      "118/118 [==============================] - 0s 616us/step - loss: 0.9239 - mean_squared_error: 0.9239\n",
      "('mean_squared_error', 0.9239481091499329)\n"
     ]
    }
   ],
   "source": [
    "# evaulate the model\n",
    "scores = model.evaluate(test_features, test_target)\n",
    "#print(scores)\n",
    "print( (model.metrics_names[1], scores[1]))"
   ]
  },
  {
   "cell_type": "markdown",
   "metadata": {},
   "source": [
    "## Conclusion\n",
    "### Here we can see that, we got very low error for 45 epochs. Error for train and test dataset is nearly equal. So we can conclude that our model predict much closer values for  output variable as per actual values."
   ]
  }
 ],
 "metadata": {
  "kernelspec": {
   "display_name": "Python 3",
   "language": "python",
   "name": "python3"
  },
  "language_info": {
   "codemirror_mode": {
    "name": "ipython",
    "version": 3
   },
   "file_extension": ".py",
   "mimetype": "text/x-python",
   "name": "python",
   "nbconvert_exporter": "python",
   "pygments_lexer": "ipython3",
   "version": "3.8.5"
  }
 },
 "nbformat": 4,
 "nbformat_minor": 4
}
